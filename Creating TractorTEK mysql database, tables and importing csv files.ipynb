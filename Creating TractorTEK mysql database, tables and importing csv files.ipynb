{
 "cells": [
  {
   "cell_type": "markdown",
   "id": "b6816fbb",
   "metadata": {},
   "source": [
    "## Creating TractorTEK mysql database"
   ]
  },
  {
   "cell_type": "code",
   "execution_count": null,
   "id": "4641f053",
   "metadata": {},
   "outputs": [],
   "source": [
    "pip install mysql-connector-python"
   ]
  },
  {
   "cell_type": "code",
   "execution_count": 2,
   "id": "355aefba",
   "metadata": {},
   "outputs": [],
   "source": [
    "import mysql.connector as mysql\n",
    "import pandas as pd\n",
    "from mysql.connector import Error"
   ]
  },
  {
   "cell_type": "code",
   "execution_count": 3,
   "id": "a5a038de",
   "metadata": {
    "scrolled": true
   },
   "outputs": [
    {
     "name": "stdout",
     "output_type": "stream",
     "text": [
      "Database created successfully\n"
     ]
    }
   ],
   "source": [
    "## creating connection to mysql and creating tractortek database ##\n",
    "\n",
    "conn = mysql.connect(host='localhost', user='root', password='pw123')\n",
    "\n",
    "if conn.is_connected():\n",
    "    cursor = conn.cursor()\n",
    "    cursor.execute(\"CREATE DATABASE tractortek\")\n",
    "    print(\"Database created successfully\")\n",
    "else:\n",
    "    print(\"Error\")"
   ]
  },
  {
   "cell_type": "markdown",
   "id": "58c28d12",
   "metadata": {},
   "source": [
    "## Creating tables in MySQL"
   ]
  },
  {
   "cell_type": "code",
   "execution_count": 9,
   "id": "ea4864df",
   "metadata": {},
   "outputs": [
    {
     "data": {
      "text/html": [
       "<div>\n",
       "<style scoped>\n",
       "    .dataframe tbody tr th:only-of-type {\n",
       "        vertical-align: middle;\n",
       "    }\n",
       "\n",
       "    .dataframe tbody tr th {\n",
       "        vertical-align: top;\n",
       "    }\n",
       "\n",
       "    .dataframe thead th {\n",
       "        text-align: right;\n",
       "    }\n",
       "</style>\n",
       "<table border=\"1\" class=\"dataframe\">\n",
       "  <thead>\n",
       "    <tr style=\"text-align: right;\">\n",
       "      <th></th>\n",
       "      <th>id</th>\n",
       "      <th>prod_code</th>\n",
       "      <th>prod_name</th>\n",
       "      <th>prod_manufc</th>\n",
       "      <th>ext_serv_plan</th>\n",
       "    </tr>\n",
       "  </thead>\n",
       "  <tbody>\n",
       "    <tr>\n",
       "      <th>0</th>\n",
       "      <td>1</td>\n",
       "      <td>PROD_006</td>\n",
       "      <td>ZT2000 Zero Turn Mower</td>\n",
       "      <td>Bobcat</td>\n",
       "      <td>ESP_006</td>\n",
       "    </tr>\n",
       "    <tr>\n",
       "      <th>1</th>\n",
       "      <td>2</td>\n",
       "      <td>PROD_005</td>\n",
       "      <td>UV34 Gas</td>\n",
       "      <td>Bobcat</td>\n",
       "      <td>ESP_005</td>\n",
       "    </tr>\n",
       "    <tr>\n",
       "      <th>2</th>\n",
       "      <td>3</td>\n",
       "      <td>PROD_004</td>\n",
       "      <td>CT1021 Sub-Compact Tractor</td>\n",
       "      <td>Bobcat</td>\n",
       "      <td>ESP_004</td>\n",
       "    </tr>\n",
       "    <tr>\n",
       "      <th>3</th>\n",
       "      <td>4</td>\n",
       "      <td>PROD_007</td>\n",
       "      <td>S70 Skid Steer Loader</td>\n",
       "      <td>Bobcat</td>\n",
       "      <td>ESP_007</td>\n",
       "    </tr>\n",
       "    <tr>\n",
       "      <th>4</th>\n",
       "      <td>5</td>\n",
       "      <td>PROD_002</td>\n",
       "      <td>CUV82</td>\n",
       "      <td>Cat</td>\n",
       "      <td>ESP_002</td>\n",
       "    </tr>\n",
       "  </tbody>\n",
       "</table>\n",
       "</div>"
      ],
      "text/plain": [
       "   id prod_code                   prod_name prod_manufc ext_serv_plan\n",
       "0   1  PROD_006      ZT2000 Zero Turn Mower      Bobcat       ESP_006\n",
       "1   2  PROD_005                   UV34 Gas       Bobcat       ESP_005\n",
       "2   3  PROD_004  CT1021 Sub-Compact Tractor      Bobcat       ESP_004\n",
       "3   4  PROD_007       S70 Skid Steer Loader      Bobcat       ESP_007\n",
       "4   5  PROD_002                       CUV82         Cat       ESP_002"
      ]
     },
     "execution_count": 9,
     "metadata": {},
     "output_type": "execute_result"
    }
   ],
   "source": [
    "prodMain = pd.read_csv(r\"C:\\Users\\mdbro\\OneDrive\\Documents\\teksystems_da\\capstone1\\prod_info.csv\")\n",
    "prodMain.head()"
   ]
  },
  {
   "cell_type": "code",
   "execution_count": 10,
   "id": "64c2f8b9",
   "metadata": {
    "scrolled": true
   },
   "outputs": [
    {
     "name": "stdout",
     "output_type": "stream",
     "text": [
      "You're connected to the database:  ('tractortek',)\n",
      "Creating table\n",
      "Table is ready...\n",
      "Records inserted\n",
      "Records inserted\n",
      "Records inserted\n",
      "Records inserted\n",
      "Records inserted\n",
      "Records inserted\n",
      "Records inserted\n",
      "Records inserted\n"
     ]
    }
   ],
   "source": [
    "conn = mysql.connect(host='localhost', \n",
    "                     database='tractortek', \n",
    "                     user='root', \n",
    "                     password='pw123')\n",
    "if conn.is_connected():\n",
    "    cursor = conn.cursor()\n",
    "    cursor.execute(\"select database();\")\n",
    "    record = cursor.fetchone()\n",
    "    print(\"You're connected to the database: \", record)\n",
    "    cursor.execute('DROP TABLE IF EXISTS prod_info;')\n",
    "    print('Creating table')\n",
    "    cursor.execute(\"CREATE TABLE prod_info(id INT, prod_code VARCHAR(8), prod_name VARCHAR(30), prod_manufc VARCHAR(30), ext_serv_plan VARCHAR(8))\")\n",
    "    print(\"Table is ready...\")\n",
    "    \n",
    "    for i, row in prodMain.iterrows():\n",
    "        sql = \"INSERT INTO tractortek.prod_info VALUES (%s,%s,%s,%s,%s)\"\n",
    "        cursor.execute(sql, tuple(row))\n",
    "        print(\"Records inserted\")\n",
    "        conn.commit()\n",
    "else:\n",
    "    print(\"Error connecting to Mysql\")"
   ]
  },
  {
   "cell_type": "code",
   "execution_count": 3,
   "id": "18c5f6f0",
   "metadata": {},
   "outputs": [
    {
     "data": {
      "text/html": [
       "<div>\n",
       "<style scoped>\n",
       "    .dataframe tbody tr th:only-of-type {\n",
       "        vertical-align: middle;\n",
       "    }\n",
       "\n",
       "    .dataframe tbody tr th {\n",
       "        vertical-align: top;\n",
       "    }\n",
       "\n",
       "    .dataframe thead th {\n",
       "        text-align: right;\n",
       "    }\n",
       "</style>\n",
       "<table border=\"1\" class=\"dataframe\">\n",
       "  <thead>\n",
       "    <tr style=\"text-align: right;\">\n",
       "      <th></th>\n",
       "      <th>empid</th>\n",
       "      <th>team_lead</th>\n",
       "      <th>pay_grd</th>\n",
       "      <th>region</th>\n",
       "    </tr>\n",
       "  </thead>\n",
       "  <tbody>\n",
       "    <tr>\n",
       "      <th>0</th>\n",
       "      <td>EMP244</td>\n",
       "      <td>Evans, Gina</td>\n",
       "      <td>C12</td>\n",
       "      <td>NW</td>\n",
       "    </tr>\n",
       "    <tr>\n",
       "      <th>1</th>\n",
       "      <td>EMP256</td>\n",
       "      <td>Lawson, Harry</td>\n",
       "      <td>C11</td>\n",
       "      <td>NW</td>\n",
       "    </tr>\n",
       "    <tr>\n",
       "      <th>2</th>\n",
       "      <td>EMP234</td>\n",
       "      <td>Bachmann, Jane</td>\n",
       "      <td>C13</td>\n",
       "      <td>NW</td>\n",
       "    </tr>\n",
       "    <tr>\n",
       "      <th>3</th>\n",
       "      <td>EMP267</td>\n",
       "      <td>Clement, Beverly</td>\n",
       "      <td>C14</td>\n",
       "      <td>SW</td>\n",
       "    </tr>\n",
       "    <tr>\n",
       "      <th>4</th>\n",
       "      <td>EMP290</td>\n",
       "      <td>Allen, Maude</td>\n",
       "      <td>C12</td>\n",
       "      <td>SW</td>\n",
       "    </tr>\n",
       "  </tbody>\n",
       "</table>\n",
       "</div>"
      ],
      "text/plain": [
       "    empid         team_lead pay_grd region\n",
       "0  EMP244       Evans, Gina     C12     NW\n",
       "1  EMP256     Lawson, Harry     C11     NW\n",
       "2  EMP234    Bachmann, Jane     C13     NW\n",
       "3  EMP267  Clement, Beverly     C14     SW\n",
       "4  EMP290      Allen, Maude     C12     SW"
      ]
     },
     "execution_count": 3,
     "metadata": {},
     "output_type": "execute_result"
    }
   ],
   "source": [
    "empTbl = pd.read_csv(r\"C:\\Users\\mdbro\\OneDrive\\Documents\\teksystems_da\\capstone1\\emp_tbl.csv\")\n",
    "empTbl.head()"
   ]
  },
  {
   "cell_type": "code",
   "execution_count": 4,
   "id": "f6d3453d",
   "metadata": {},
   "outputs": [
    {
     "name": "stdout",
     "output_type": "stream",
     "text": [
      "You're connected to the database:  ('tractortek',)\n",
      "Creating table\n",
      "Table is ready...\n",
      "Records inserted\n",
      "Records inserted\n",
      "Records inserted\n",
      "Records inserted\n",
      "Records inserted\n"
     ]
    }
   ],
   "source": [
    "conn = mysql.connect(host='localhost', \n",
    "                     database='tractortek', \n",
    "                     user='root', \n",
    "                     password='pw123')\n",
    "if conn.is_connected():\n",
    "    cursor = conn.cursor()\n",
    "    cursor.execute(\"select database();\")\n",
    "    record = cursor.fetchone()\n",
    "    print(\"You're connected to the database: \", record)\n",
    "    cursor.execute('DROP TABLE IF EXISTS emp_tbl;')\n",
    "    print('Creating table')\n",
    "    cursor.execute(\"CREATE TABLE emp_tbl(empid VARCHAR(10), team_lead VARCHAR(30), pay_grd VARCHAR(30), region VARCHAR(8))\")\n",
    "    print(\"Table is ready...\")\n",
    "    \n",
    "    for i, row in empTbl.iterrows():\n",
    "        sql = \"INSERT INTO tractortek.emp_tbl VALUES (%s,%s,%s,%s)\"\n",
    "        cursor.execute(sql, tuple(row))\n",
    "        print(\"Records inserted\")\n",
    "        conn.commit()\n",
    "else:\n",
    "    print(\"Error connecting to Mysql\")"
   ]
  },
  {
   "cell_type": "code",
   "execution_count": null,
   "id": "0ddef62f",
   "metadata": {},
   "outputs": [],
   "source": []
  }
 ],
 "metadata": {
  "kernelspec": {
   "display_name": "Python 3 (ipykernel)",
   "language": "python",
   "name": "python3"
  },
  "language_info": {
   "codemirror_mode": {
    "name": "ipython",
    "version": 3
   },
   "file_extension": ".py",
   "mimetype": "text/x-python",
   "name": "python",
   "nbconvert_exporter": "python",
   "pygments_lexer": "ipython3",
   "version": "3.9.7"
  }
 },
 "nbformat": 4,
 "nbformat_minor": 5
}
